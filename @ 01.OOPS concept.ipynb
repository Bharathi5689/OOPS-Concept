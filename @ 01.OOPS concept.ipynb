{
 "cells": [
  {
   "cell_type": "markdown",
   "id": "fd674887",
   "metadata": {},
   "source": [
    "# Class & Object"
   ]
  },
  {
   "cell_type": "code",
   "execution_count": null,
   "id": "a9c2fda7",
   "metadata": {},
   "outputs": [],
   "source": [
    "class Number:\n",
    "    def __init__(self,number):\n",
    "        self.number = number\n",
    "        \n",
    "    def displaynumber(self):\n",
    "        print(\" I am number : \",self.number)\n",
    "obj = Number(5)\n",
    "obj.displaynumber()"
   ]
  },
  {
   "cell_type": "code",
   "execution_count": 10,
   "id": "5c09b9c5",
   "metadata": {},
   "outputs": [
    {
     "name": "stdout",
     "output_type": "stream",
     "text": [
      "sakthi\n",
      "bharathi\n"
     ]
    }
   ],
   "source": [
    "class Names:\n",
    "    \n",
    "    def __init__(self,name1,name2):\n",
    "        self.name1 = name1\n",
    "        self.name2 = name2\n",
    "\n",
    "obj = Names('sakthi','bharathi')\n",
    "\n",
    "print(obj.name1)\n",
    "print(obj.name2)"
   ]
  },
  {
   "cell_type": "code",
   "execution_count": 14,
   "id": "6ffd1b06",
   "metadata": {},
   "outputs": [
    {
     "name": "stdout",
     "output_type": "stream",
     "text": [
      "The address of self is :  4416028624\n",
      "the address of class obj is :  4416028624\n"
     ]
    }
   ],
   "source": [
    "class check:\n",
    "    \n",
    "    def __init__(self):\n",
    "        print(\"The address of self is : \",id(self))\n",
    "        \n",
    "obj = check()\n",
    "\n",
    "print(\"the address of class obj is : \",id(obj))\n",
    "    "
   ]
  },
  {
   "cell_type": "code",
   "execution_count": 13,
   "id": "8c0f1fed",
   "metadata": {},
   "outputs": [
    {
     "name": "stdout",
     "output_type": "stream",
     "text": [
      "name: Sakthi\n",
      "age: 7\n",
      "gender: Male\n",
      "salary: 500000\n"
     ]
    }
   ],
   "source": [
    "class Employee:\n",
    "    \n",
    "    def __init__(self,name,age,gender,salary):\n",
    "        self.name=name\n",
    "        self.age=age\n",
    "        self.gender=gender\n",
    "        self.salary=salary\n",
    "    \n",
    "    def show_details(self):\n",
    "        print(\"name:\",self.name)\n",
    "        print(\"age:\",self.age)\n",
    "        print(\"gender:\",self.gender)\n",
    "        print(\"salary:\",self.salary)\n",
    "\n",
    "e1= Employee(\"Sakthi\",7,\"Male\",500000)\n",
    "e1.show_details()\n",
    "   "
   ]
  },
  {
   "cell_type": "code",
   "execution_count": 25,
   "id": "9085dcf5",
   "metadata": {},
   "outputs": [
    {
     "name": "stdout",
     "output_type": "stream",
     "text": [
      "the model is :  alcazar\n",
      "the color is :  grey\n",
      "\n",
      "\n",
      "the model is :  venue\n",
      "the color is :  grey\n",
      "\n",
      "\n",
      "the model is :  captur\n",
      "the color is :  orange\n",
      "\n",
      "\n",
      "the model for renault is:  captur\n",
      "\n",
      "\n",
      "the color for hyundai is  grey\n"
     ]
    }
   ],
   "source": [
    "class Car:\n",
    "   \n",
    "    def __init__(self,model,color):\n",
    "        self.model = model\n",
    "        self.color = color\n",
    "    \n",
    "    def displaydetails(self):\n",
    "        print(\"the model is : \",self.model)\n",
    "        print(\"the color is : \",self.color)\n",
    "\n",
    "hyundai = Car('alcazar','grey')\n",
    "hyundai1 = Car('venue','grey')\n",
    "renault = Car('captur','orange')\n",
    "\n",
    "hyundai.displaydetails()\n",
    "print(\"\\n\")\n",
    "\n",
    "hyundai1.displaydetails()\n",
    "print(\"\\n\")\n",
    "\n",
    "renault.displaydetails()\n",
    "print('\\n')\n",
    "\n",
    "print(\"the model for renault is: \",renault.model)\n",
    "print('\\n')\n",
    "\n",
    "print(\"the color for hyundai is \",hyundai.color)"
   ]
  },
  {
   "cell_type": "markdown",
   "id": "5691d2c7",
   "metadata": {},
   "source": [
    "# Check for self"
   ]
  },
  {
   "cell_type": "code",
   "execution_count": 33,
   "id": "a15cb5d0",
   "metadata": {},
   "outputs": [
    {
     "name": "stdout",
     "output_type": "stream",
     "text": [
      "checking for self \n",
      "self is not keyword , convention \n"
     ]
    }
   ],
   "source": [
    "class check:\n",
    "    \n",
    "    def __init__(in_place_of_self):\n",
    "        \n",
    "        print(\"checking for self \")\n",
    "obj = check()\n",
    "print(\"self is not keyword , convention \")"
   ]
  },
  {
   "cell_type": "markdown",
   "id": "949372c3",
   "metadata": {},
   "source": [
    "# Class variable"
   ]
  },
  {
   "cell_type": "code",
   "execution_count": 55,
   "id": "8ad8f83a",
   "metadata": {},
   "outputs": [
    {
     "name": "stdout",
     "output_type": "stream",
     "text": [
      "Pug is a mammal\n",
      "Tommy is a  mammal\n",
      "my name is Veni\n",
      "my name is Tommy\n"
     ]
    }
   ],
   "source": [
    "class Dog:\n",
    "    \n",
    "    attr1 = \"mammal\"\n",
    "    \n",
    "    def __init__(self, name):\n",
    "        self.name = name\n",
    "    \n",
    "        \n",
    "\n",
    "Pug = Dog(\"Veni\")\n",
    "Tommy = Dog(\"Tommy\")\n",
    "\n",
    "print(\"Pug is a {}\".format(Pug.__class__.attr1))\n",
    "print(\"Tommy is a \",Tommy.__class__.attr1)\n",
    "\n",
    "print(\"my name is {}\".format(Pug.name))\n",
    "print(\"my name is\",Tommy.name)\n",
    "\n"
   ]
  },
  {
   "cell_type": "code",
   "execution_count": 9,
   "id": "ac72c375",
   "metadata": {},
   "outputs": [
    {
     "name": "stdout",
     "output_type": "stream",
     "text": [
      "  <built-in method mro of type object at 0x11ae07920>\n",
      "  <built-in method mro of type object at 0x11ae07920>\n",
      " my name is: Veni\n",
      " my name is: Tommy\n"
     ]
    }
   ],
   "source": [
    "class Dog:\n",
    "    \n",
    "    attr1 = \"mammal\" \n",
    "    \n",
    "    def __init__(self, name):\n",
    "        self.name = name\n",
    "        print(\" \", __class__.mro)\n",
    "    \n",
    "    def speak(self):\n",
    "        print(\" my name is:\",self.name)\n",
    "        \n",
    "\n",
    "Pug = Dog(\"Veni\")\n",
    "Tommy = Dog(\"Tommy\")\n",
    "\n",
    "Pug.speak()\n",
    "Tommy.speak()"
   ]
  },
  {
   "cell_type": "markdown",
   "id": "c7b10c89",
   "metadata": {},
   "source": [
    "\n",
    "# Inheritance"
   ]
  },
  {
   "cell_type": "code",
   "execution_count": 76,
   "id": "ca74cef5",
   "metadata": {},
   "outputs": [
    {
     "name": "stdout",
     "output_type": "stream",
     "text": [
      "Bharathi\n",
      "123\n",
      "my name is : Bharathi\n",
      "my id is :  123\n",
      "my post is:   Software Developer\n",
      "my salary is  700000\n"
     ]
    }
   ],
   "source": [
    "class Employee:\n",
    "    \n",
    "    def __init__(self, name, idnumber):\n",
    "        self.name = name\n",
    "        self.idnumber = idnumber\n",
    "    \n",
    "    def display(self):\n",
    "        print(self.name)\n",
    "        print(self.idnumber)\n",
    "    \n",
    "    def details(self):\n",
    "        print(\"Name is : \",self.name)\n",
    "        print(\"Idnumber is : \",self.idnumber)\n",
    "\n",
    "class Person(Employee):\n",
    "    \n",
    "    def __init__(self,name,idnumber,post,salary):\n",
    "        self.post = post\n",
    "        self.salary = salary\n",
    "           .__init__(self,name,idnumber)\n",
    "   \n",
    "    def details(self):\n",
    "        print(\"my name is :\",self.name)\n",
    "        print(\"my id is : \",self.idnumber)\n",
    "        print(\"my post is:  \",self.post)\n",
    "        print(\"my salary is \",self.salary)\n",
    "\n",
    "obj = Person(\"Bharathi\",123,\"Software Developer\",700000)\n",
    "\n",
    "\n",
    "obj.display()\n",
    "\n",
    "obj.details()"
   ]
  },
  {
   "cell_type": "markdown",
   "id": "c4a7632e",
   "metadata": {},
   "source": [
    "# Polymorphism"
   ]
  },
  {
   "cell_type": "code",
   "execution_count": 71,
   "id": "1299931d",
   "metadata": {},
   "outputs": [
    {
     "name": "stdout",
     "output_type": "stream",
     "text": [
      "There are diff varieties of bird\n",
      "Many birds can fly and some cannot fly\n",
      "There are diff varieties of bird\n",
      "The sparrow can fly\n",
      "There are diff varieties of bird\n",
      "The ostrich cannot fly\n"
     ]
    }
   ],
   "source": [
    "class Bird:\n",
    "    \n",
    "    def __init__(self):\n",
    "        pass\n",
    "    \n",
    "    def intro(self):\n",
    "        print(\"There are diff varieties of bird\")\n",
    "    \n",
    "    def flight(self):\n",
    "        print(\"Many birds can fly and some cannot fly\")\n",
    "\n",
    "class Sparrow(Bird):\n",
    "    \n",
    "    def flight(self):\n",
    "        print(\"The sparrow can fly\")\n",
    "        \n",
    "class Ostrich(Bird):\n",
    "    \n",
    "    def flight(self):\n",
    "        print(\"The ostrich cannot fly\")\n",
    "        \n",
    "obj_Bird = Bird()\n",
    "obj_Sparrow = Sparrow()\n",
    "obj_Ostrich = Ostrich()\n",
    "\n",
    "obj_Bird.intro()\n",
    "obj_Bird.flight()\n",
    "\n",
    "obj_Sparrow.intro()\n",
    "obj_Sparrow.flight()\n",
    "\n",
    "\n",
    "obj_Ostrich.intro()\n",
    "obj_Ostrich.flight()\n",
    "\n"
   ]
  },
  {
   "cell_type": "code",
   "execution_count": 1,
   "id": "08e388d5",
   "metadata": {},
   "outputs": [
    {
     "name": "stdout",
     "output_type": "stream",
     "text": [
      "Area of circle is  153.86\n",
      "area of rectangle is  28\n"
     ]
    }
   ],
   "source": [
    "class Circle:\n",
    "    \n",
    "    pi = 3.14\n",
    "    \n",
    "    def __init__(self,radius):\n",
    "        self.radius = radius\n",
    "    \n",
    "    def area(self):\n",
    "        print(\"Area of circle is \",self.pi*self.radius*self.radius)\n",
    "\n",
    "class Rectangle:\n",
    "    \n",
    "    def __init__(self,length,breadth):\n",
    "        self.length = length\n",
    "        self.breadth = breadth\n",
    "    \n",
    "    def area(self):\n",
    "        print(\"area of rectangle is \",self.length*self.breadth)\n",
    "\n",
    "circle_obj = Circle(7)\n",
    "rectangle_obj = Rectangle(7,4)\n",
    "circle_obj.area()\n",
    "rectangle_obj.area()\n",
    "    "
   ]
  },
  {
   "cell_type": "code",
   "execution_count": 3,
   "id": "59ed050c",
   "metadata": {},
   "outputs": [
    {
     "name": "stdout",
     "output_type": "stream",
     "text": [
      "Name: bharathi\n",
      "Age: 33\n",
      "Gender: Female\n"
     ]
    }
   ],
   "source": [
    "class Myclass:\n",
    "    \n",
    "    def __init__(self, name , age , gender):\n",
    "        \n",
    "        self.name = name\n",
    "        self.age = age\n",
    "        self.gender = gender\n",
    "        \n",
    "    \n",
    "    def displayage(self):\n",
    "       \n",
    "        print(\"Age:\",self.age)\n",
    "    \n",
    "    def displaygender(self):\n",
    "        \n",
    "        print(\"Gender:\",self.gender)\n",
    "        \n",
    "obj = Myclass(\"bharathi\",33,\"Female\")\n",
    "\n",
    "print(\"Name:\",obj.name)\n",
    "\n",
    "obj.displayage()\n",
    "\n",
    "obj.displaygender()\n",
    "        \n",
    "    "
   ]
  },
  {
   "cell_type": "code",
   "execution_count": 5,
   "id": "0ee68d25",
   "metadata": {},
   "outputs": [
    {
     "name": "stdout",
     "output_type": "stream",
     "text": [
      "Name:  Bharathi\n",
      "Rollnumber:  12345\n",
      "Branch:  EEE\n"
     ]
    }
   ],
   "source": [
    "class Student:\n",
    "    _name = None\n",
    "    _branch = None\n",
    "    _rollnumber = None\n",
    "    \n",
    "    def __init__(self, name,branch,rollnumber):\n",
    "        \n",
    "        self._name = name\n",
    "        self._branch = branch\n",
    "        self._rollnumber = rollnumber\n",
    "        \n",
    "    def _displayBranchandRollnumber(self):\n",
    "        \n",
    "        print(\"Rollnumber: \",self._rollnumber)\n",
    "        print(\"Branch: \",self._branch)\n",
    "\n",
    "class Stud1(Student):\n",
    "    \n",
    "    def __init__(self,name,branch,rollnumber):\n",
    "        \n",
    "        Student.__init__(self,name,branch,rollnumber)\n",
    "        \n",
    "    def displaydetails(self):\n",
    "        \n",
    "        print(\"Name: \",self._name)\n",
    "        \n",
    "        self._displayBranchandRollnumber()\n",
    "        \n",
    "obj = Stud1(\"Bharathi\",\"EEE\",12345)\n",
    "\n",
    "obj.displaydetails()\n",
    "        \n",
    "    "
   ]
  },
  {
   "cell_type": "code",
   "execution_count": 7,
   "id": "a54cf0f9",
   "metadata": {},
   "outputs": [
    {
     "name": "stdout",
     "output_type": "stream",
     "text": [
      "Name:  Bharathi\n",
      "Roll:  12345\n",
      "Branch:  EEE\n"
     ]
    }
   ],
   "source": [
    "class Student:\n",
    "    \n",
    "    __name = None\n",
    "    __roll = None\n",
    "    __branch = None\n",
    "    \n",
    "    def __init__(self, name, roll, branch):\n",
    "        \n",
    "        self.__name = name\n",
    "        self.__roll = roll\n",
    "        self.__branch = branch\n",
    "        \n",
    "    def __displayDetails(self):\n",
    "        \n",
    "        print(\"Name: \",self.__name)\n",
    "        print(\"Roll: \",self.__roll)\n",
    "        print(\"Branch: \",self.__branch)\n",
    "        \n",
    "    def accessPrivateFunction(self):\n",
    "        \n",
    "        self.__displayDetails()\n",
    "\n",
    "obj = Student(\"Bharathi\",12345,\"EEE\")\n",
    "\n",
    "obj.accessPrivateFunction()"
   ]
  },
  {
   "cell_type": "code",
   "execution_count": 9,
   "id": "48109e38",
   "metadata": {},
   "outputs": [
    {
     "name": "stdout",
     "output_type": "stream",
     "text": [
      "Name:  veni\n",
      "Age: 2\n"
     ]
    }
   ],
   "source": [
    "class Dog():\n",
    "    \n",
    "    def __init__(self,name,age):\n",
    "        self.name = name\n",
    "        self.age = age\n",
    "    \n",
    "    def displayname(self):\n",
    "        print('Name: ', self.name)\n",
    "    \n",
    "    \n",
    "obj = Dog('veni',2)\n",
    "\n",
    "obj.displayname()\n",
    "\n",
    "print('Age:', obj.age)\n",
    "\n",
    "        \n",
    "    "
   ]
  },
  {
   "cell_type": "code",
   "execution_count": 11,
   "id": "0ef99f1b",
   "metadata": {},
   "outputs": [
    {
     "name": "stdout",
     "output_type": "stream",
     "text": [
      "Name:  veni\n",
      "Age:  2\n"
     ]
    }
   ],
   "source": [
    "class Dog:\n",
    "    \n",
    "    def __init__(self,name,age):\n",
    "        self._name = name\n",
    "        self._age = age\n",
    "    \n",
    "    def _display(self):\n",
    "        print('Name: ', self._name)\n",
    "        print(\"Age: \", self._age)\n",
    "\n",
    "class Pug(Dog):\n",
    "    \n",
    "    def __init__(self,name,age):\n",
    "        \n",
    "        Dog.__init__(self,name,age)\n",
    "        \n",
    "    def pugdisplay(self):\n",
    "        \n",
    "        self._display()\n",
    "                 \n",
    "    \n",
    "obj = Pug('veni',2)\n",
    "\n",
    "obj.pugdisplay()\n",
    "\n",
    "    "
   ]
  },
  {
   "cell_type": "code",
   "execution_count": 12,
   "id": "9fab5c21",
   "metadata": {},
   "outputs": [
    {
     "name": "stdout",
     "output_type": "stream",
     "text": [
      "name : Veni\n",
      "age:  2\n"
     ]
    }
   ],
   "source": [
    "class Dog:\n",
    "    \n",
    "    def __init__(self,name,age):\n",
    "        \n",
    "        self.__name = name\n",
    "        self.__age = age\n",
    "\n",
    "    def __Display(self):\n",
    "        \n",
    "        print('name :',self.__name)\n",
    "        print('age: ',self.__age)\n",
    "    \n",
    "    def accessdisplay(self): \n",
    "        self. __Display()\n",
    "        \n",
    "obj = Dog('Veni',2)\n",
    "obj.accessdisplay()"
   ]
  }
 ],
 "metadata": {
  "kernelspec": {
   "display_name": "Python 3 (ipykernel)",
   "language": "python",
   "name": "python3"
  },
  "language_info": {
   "codemirror_mode": {
    "name": "ipython",
    "version": 3
   },
   "file_extension": ".py",
   "mimetype": "text/x-python",
   "name": "python",
   "nbconvert_exporter": "python",
   "pygments_lexer": "ipython3",
   "version": "3.11.3"
  }
 },
 "nbformat": 4,
 "nbformat_minor": 5
}
