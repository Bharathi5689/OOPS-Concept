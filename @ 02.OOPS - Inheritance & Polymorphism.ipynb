{
 "cells": [
  {
   "cell_type": "markdown",
   "id": "671b25e5",
   "metadata": {},
   "source": [
    "# Single Inheritance"
   ]
  },
  {
   "cell_type": "code",
   "execution_count": 5,
   "id": "228ff9df",
   "metadata": {},
   "outputs": [
    {
     "name": "stdout",
     "output_type": "stream",
     "text": [
      "I am Parent\n",
      "I am Child\n"
     ]
    }
   ],
   "source": [
    "class Parent:\n",
    "    \n",
    "    def func1(self):\n",
    "        print(\"I am Parent\")\n",
    "        \n",
    "class Child(Parent):\n",
    "    \n",
    "    def func2(self):\n",
    "        print(\"I am Child\")\n",
    "        \n",
    "obj = Child()\n",
    "obj.func1()\n",
    "obj.func2()"
   ]
  },
  {
   "cell_type": "markdown",
   "id": "a1a9c7c6",
   "metadata": {},
   "source": [
    "# Multiple Inheritance"
   ]
  },
  {
   "cell_type": "code",
   "execution_count": 13,
   "id": "2f9a548b",
   "metadata": {},
   "outputs": [
    {
     "name": "stdout",
     "output_type": "stream",
     "text": [
      "Father name :  Ram\n",
      "Mother name :  Sita\n"
     ]
    }
   ],
   "source": [
    "class Father:\n",
    "    \n",
    "    father_name =\"\"\n",
    "    \n",
    "    def father(self):\n",
    "        print(self.father_name)\n",
    "        \n",
    "class Mother:\n",
    "    \n",
    "    mother_name= \"\"\n",
    "   \n",
    "    def Mother(self):\n",
    "        print(self.mother_name)\n",
    "\n",
    "class Son(Father,Mother):\n",
    "     \n",
    "    def parents(self):\n",
    "        \n",
    "        print(\"Father name : \", self.father_name)\n",
    "        print(\"Mother name : \",self.mother_name)\n",
    "\n",
    "obj = Son()\n",
    "obj.father_name =\"Ram\"\n",
    "obj.mother_name =\"Sita\"\n",
    "obj.parents()"
   ]
  },
  {
   "cell_type": "markdown",
   "id": "b4798ba0",
   "metadata": {},
   "source": [
    "# Multilevel Inheritance"
   ]
  },
  {
   "cell_type": "code",
   "execution_count": 4,
   "id": "7773d4ba",
   "metadata": {},
   "outputs": [
    {
     "name": "stdout",
     "output_type": "stream",
     "text": [
      "Grandfather name : Selvam\n",
      "Mother name : Bharathi\n",
      "Son name : Sakthi\n",
      "(<class '__main__.Son'>, <class '__main__.Mother'>, <class '__main__.GrandFather'>, <class 'object'>)\n",
      "[<class '__main__.Son'>, <class '__main__.Mother'>, <class '__main__.GrandFather'>, <class 'object'>]\n"
     ]
    }
   ],
   "source": [
    "class GrandFather:\n",
    "    \n",
    "    def __init__(self,grandfather_name):\n",
    "        \n",
    "        self.grandfather_name = grandfather_name\n",
    "        \n",
    "class Mother(GrandFather):\n",
    "    \n",
    "    def __init__(self, mother_name,grandfather_name):\n",
    "        \n",
    "        self.mother_name = mother_name\n",
    "        GrandFather.__init__(self,grandfather_name)\n",
    "\n",
    "class Son(Mother):\n",
    "    \n",
    "    def __init__(self, grandfather_name, mother_name, son_name):\n",
    "        \n",
    "        self.son_name = son_name\n",
    "        Mother.__init__(self, mother_name, grandfather_name)\n",
    "    \n",
    "    def print_name(self):\n",
    "        print('Grandfather name :', self.grandfather_name)\n",
    "        print(\"Mother name :\", self.mother_name)\n",
    "        print(\"Son name :\", self.son_name)\n",
    "        \n",
    "obj = Son(\"Selvam\",\"Bharathi\",\"Sakthi\")\n",
    "obj.print_name()\n",
    "print(Son.__mro__)\n",
    "print(Son.mro())\n",
    "        "
   ]
  },
  {
   "cell_type": "markdown",
   "id": "463f3893",
   "metadata": {},
   "source": [
    "# Hierarchical Inheritance"
   ]
  },
  {
   "cell_type": "code",
   "execution_count": 8,
   "id": "81aee122",
   "metadata": {},
   "outputs": [
    {
     "name": "stdout",
     "output_type": "stream",
     "text": [
      "I am parent of 2 kids\n",
      "I am the first child\n",
      "\n",
      "\n",
      "I am parent of 2 kids\n",
      "I am the second child\n"
     ]
    }
   ],
   "source": [
    "class Parent:\n",
    "    \n",
    "    def func1(self):\n",
    "        print(\"I am parent of 2 kids\")\n",
    "        \n",
    "class Child1(Parent):\n",
    "    \n",
    "    def func2(self):\n",
    "        print(\"I am the first child\")\n",
    "        \n",
    "class Child2(Parent):\n",
    "    \n",
    "    def func3(self):\n",
    "        print(\"I am the second child\")\n",
    "        \n",
    "obj1 = Child1()\n",
    "obj2 = Child2()\n",
    "\n",
    "obj1.func1()\n",
    "obj1.func2()\n",
    "print(\"\\n\")\n",
    "\n",
    "obj2.func1()\n",
    "obj2.func3()\n"
   ]
  },
  {
   "cell_type": "markdown",
   "id": "49051766",
   "metadata": {},
   "source": [
    "# Polymorphism"
   ]
  },
  {
   "cell_type": "code",
   "execution_count": 10,
   "id": "6a78f320",
   "metadata": {},
   "outputs": [
    {
     "name": "stdout",
     "output_type": "stream",
     "text": [
      "9\n",
      "6\n"
     ]
    }
   ],
   "source": [
    "def add(x,y,z =0):\n",
    "    return x + y + z\n",
    "print(add(4,5))\n",
    "print(add(1,2,3))"
   ]
  },
  {
   "cell_type": "markdown",
   "id": "3ad8ca9b",
   "metadata": {},
   "source": [
    "# Polymorphism with class method"
   ]
  },
  {
   "cell_type": "code",
   "execution_count": 12,
   "id": "6ea25908",
   "metadata": {},
   "outputs": [
    {
     "name": "stdout",
     "output_type": "stream",
     "text": [
      "India is developing country\n",
      "India has wide varieties of language\n",
      "New Delhi is capital of India\n",
      "USA is developed country\n",
      "English is language spoken In USA\n",
      "Washington is capital of USA\n"
     ]
    }
   ],
   "source": [
    "class India:\n",
    "    \n",
    "    def type(self):\n",
    "        print(\"India is developing country\")\n",
    "    \n",
    "    def language(self):\n",
    "        print(\"India has wide varieties of language\")\n",
    "   \n",
    "    def capital(self):\n",
    "        print(\"New Delhi is capital of India\")\n",
    "        \n",
    "class USA:\n",
    "    \n",
    "    def type(self):\n",
    "        print(\"USA is developed country\")\n",
    "    \n",
    "    def language(self):\n",
    "        print(\"English is language spoken In USA\")\n",
    "    \n",
    "    def capital(self):\n",
    "        print(\"Washington is capital of USA\")\n",
    "        \n",
    "ind = India()\n",
    "usa = USA()\n",
    "\n",
    "for country in (ind, usa):\n",
    "    country.type()\n",
    "    country.language()\n",
    "    country.capital()\n",
    "        "
   ]
  },
  {
   "cell_type": "markdown",
   "id": "e2a9edbd",
   "metadata": {},
   "source": [
    "# Polymorphism with inheritance"
   ]
  },
  {
   "cell_type": "code",
   "execution_count": 16,
   "id": "245441cb",
   "metadata": {},
   "outputs": [
    {
     "name": "stdout",
     "output_type": "stream",
     "text": [
      "There are different varieties of bird\n",
      "Some birds can fly and some can't\n",
      "There are different varieties of bird\n",
      "I can fly\n",
      "There are different varieties of bird\n",
      "I cannot fly\n"
     ]
    }
   ],
   "source": [
    "class Bird:\n",
    "    \n",
    "    def intro(self):\n",
    "        print(\"There are different varieties of bird\")\n",
    "    \n",
    "    def flight(self):\n",
    "        print(\"Some birds can fly and some can't\")\n",
    "        \n",
    "class Sparrow(Bird):\n",
    "    \n",
    "    def flight(self):\n",
    "        print(\"I can fly\")\n",
    "\n",
    "class Ostrich(Bird):\n",
    "    \n",
    "    def flight(self):\n",
    "        print(\"I cannot fly\")\n",
    "\n",
    "obj = Bird()\n",
    "obj1 = Sparrow()\n",
    "obj2 = Ostrich()\n",
    "\n",
    "obj.intro()\n",
    "obj.flight()\n",
    "\n",
    "obj1.intro()\n",
    "obj1.flight()\n",
    "\n",
    "obj2.intro()\n",
    "obj2.flight()"
   ]
  },
  {
   "cell_type": "markdown",
   "id": "09c0c492",
   "metadata": {},
   "source": [
    "# polymorphism with functions and object"
   ]
  },
  {
   "cell_type": "code",
   "execution_count": 21,
   "id": "1483765c",
   "metadata": {},
   "outputs": [
    {
     "name": "stdout",
     "output_type": "stream",
     "text": [
      "India is developing country\n",
      "India has wide varieties of language\n",
      "New Delhi is capital of India\n",
      "USA is developed country\n",
      "English is language spoken In USA\n",
      "Washington is capital of USA\n"
     ]
    }
   ],
   "source": [
    "class India:\n",
    "    \n",
    "    def type(self):\n",
    "        print(\"India is developing country\")\n",
    "    \n",
    "    def language(self):\n",
    "        print(\"India has wide varieties of language\")\n",
    "   \n",
    "    def capital(self):\n",
    "        print(\"New Delhi is capital of India\")\n",
    "        \n",
    "class USA:\n",
    "    \n",
    "    def type(self):\n",
    "        print(\"USA is developed country\")\n",
    "    \n",
    "    def language(self):\n",
    "        print(\"English is language spoken In USA\")\n",
    "    \n",
    "    def capital(self):\n",
    "        print(\"Washington is capital of USA\")\n",
    "        \n",
    "def func(obj):\n",
    "    obj.type()\n",
    "    obj.language()\n",
    "    obj.capital()\n",
    "    \n",
    "obj_ind = India()\n",
    "obj_usa = USA()\n",
    "\n",
    "func(obj_ind)\n",
    "func(obj_usa)"
   ]
  },
  {
   "cell_type": "markdown",
   "id": "0f831c96",
   "metadata": {},
   "source": [
    "# Polymorphism using inheritance and Method overriding"
   ]
  },
  {
   "cell_type": "code",
   "execution_count": 39,
   "id": "d7cb5897",
   "metadata": {},
   "outputs": [
    {
     "name": "stdout",
     "output_type": "stream",
     "text": [
      "meow\n",
      "hoof\n"
     ]
    }
   ],
   "source": [
    "class Animal:\n",
    "    \n",
    "    def speak(self):\n",
    "        raise NotImplementedError\n",
    "    \n",
    "class Cat(Animal):\n",
    "    \n",
    "    def speak(self):\n",
    "        return \"meow\"\n",
    "        \n",
    "class Dog(Animal):\n",
    "    \n",
    "    def speak(self):\n",
    "        return \"hoof\"\n",
    "\n",
    "\n",
    "\n",
    "animals = [Cat(),Dog()]\n",
    "\n",
    "for animal in animals:\n",
    "\n",
    "    print(animal.speak())\n",
    "    "
   ]
  },
  {
   "cell_type": "code",
   "execution_count": 43,
   "id": "2fe85db6",
   "metadata": {},
   "outputs": [
    {
     "name": "stdout",
     "output_type": "stream",
     "text": [
      "Modes of car\n",
      "parking\n",
      "drive\n"
     ]
    }
   ],
   "source": [
    "class Car:\n",
    "    def mode(self):\n",
    "        return \"Modes of car\"\n",
    "    \n",
    "class Car1(Car):\n",
    "    \n",
    "    def mode(self):\n",
    "        return \"parking\"\n",
    "\n",
    "class Car2(Car):\n",
    "    \n",
    "    def mode(self):\n",
    "        return \"drive\"\n",
    "\n",
    "car_mode = [Car(),Car1(),Car2()]\n",
    "for modes in car_mode:\n",
    "    print(modes.mode())"
   ]
  },
  {
   "cell_type": "markdown",
   "id": "0a05044c",
   "metadata": {},
   "source": [
    "# Method overriding\n"
   ]
  },
  {
   "cell_type": "code",
   "execution_count": 45,
   "id": "b4bd030c",
   "metadata": {},
   "outputs": [
    {
     "name": "stdout",
     "output_type": "stream",
     "text": [
      "Inside Child class\n",
      "Inside Parent class\n"
     ]
    }
   ],
   "source": [
    "class Parent:\n",
    "    \n",
    "    def __init__(self):\n",
    "        self.value = \"Inside Parent class\"\n",
    "    \n",
    "    def show(self):\n",
    "        print(self.value)\n",
    "        \n",
    "class Child(Parent):\n",
    "    \n",
    "    def __init__(self):\n",
    "        self.value =\"Inside Child class\"\n",
    "        \n",
    "    def show(self):\n",
    "        print(self.value)\n",
    "        \n",
    "obj1 = Child()\n",
    "obj1.show()\n",
    "\n",
    "obj2 = Parent()\n",
    "obj2.show()\n",
    "        \n"
   ]
  },
  {
   "cell_type": "markdown",
   "id": "9f4353ea",
   "metadata": {},
   "source": [
    "# Overriding in Multiple inheritance"
   ]
  },
  {
   "cell_type": "code",
   "execution_count": 75,
   "id": "ebf287d2",
   "metadata": {},
   "outputs": [
    {
     "name": "stdout",
     "output_type": "stream",
     "text": [
      "Inside Parent1\n",
      "Inside Parent2\n",
      "Inside child\n",
      "\n",
      "\n",
      "Inside Parent2\n"
     ]
    }
   ],
   "source": [
    "class Parent1():\n",
    "    \n",
    "    def show(self):\n",
    "        print( \"Inside Parent1\")\n",
    "    \n",
    "class Parent2():\n",
    "    \n",
    "    def display(self):\n",
    "        print( \"Inside Parent2\")\n",
    "    \n",
    "class Child(Parent1, Parent2):\n",
    "    \n",
    "    def show(self):\n",
    "        Parent1.show(self)\n",
    "        Parent2.display(self)\n",
    "        print (\"Inside child\")\n",
    "    \n",
    "obj = Child()\n",
    "\n",
    "obj.show()\n",
    "print(\"\\n\")\n",
    "obj.display()"
   ]
  },
  {
   "cell_type": "markdown",
   "id": "e3675131",
   "metadata": {},
   "source": [
    "# Overriding in Multilevel Inheritance"
   ]
  },
  {
   "cell_type": "code",
   "execution_count": 82,
   "id": "c7054485",
   "metadata": {},
   "outputs": [
    {
     "name": "stdout",
     "output_type": "stream",
     "text": [
      "Inside Child\n",
      "Inside Parent\n"
     ]
    }
   ],
   "source": [
    "class Grandparent():\n",
    "    \n",
    "    def show(self):\n",
    "        Child.show(self)\n",
    "        print(\"Inside Grandparent\")\n",
    "\n",
    "class Parent(Grandparent):\n",
    "    \n",
    "    def display(self):\n",
    "        print(\"Inside Parent\")\n",
    "        \n",
    "class Child(Parent):\n",
    "    \n",
    "    def show(self):\n",
    "        print(\"Inside Child\")\n",
    "        Parent.display(self)\n",
    "        \n",
    "        \n",
    "obj = Child()\n",
    "obj.show()\n",
    "\n",
    "        "
   ]
  },
  {
   "cell_type": "markdown",
   "id": "a7dea301",
   "metadata": {},
   "source": [
    "# Super()"
   ]
  },
  {
   "cell_type": "code",
   "execution_count": 81,
   "id": "cda4b788",
   "metadata": {},
   "outputs": [
    {
     "name": "stdout",
     "output_type": "stream",
     "text": [
      "In Parent\n",
      "In child\n"
     ]
    }
   ],
   "source": [
    "class Parent():\n",
    "     \n",
    "    def show(self):\n",
    "        print(\"In Parent\")\n",
    "        \n",
    "class Child(Parent):\n",
    "    \n",
    "    def show(self):\n",
    "        super().show()\n",
    "        print(\"In child\")\n",
    "        \n",
    "obj = Child()\n",
    "obj.show()"
   ]
  },
  {
   "cell_type": "markdown",
   "id": "4e8a9504",
   "metadata": {},
   "source": [
    "# Super() in multiple inheritance"
   ]
  },
  {
   "cell_type": "code",
   "execution_count": 84,
   "id": "b25bd9d9",
   "metadata": {},
   "outputs": [
    {
     "name": "stdout",
     "output_type": "stream",
     "text": [
      "In Parent2\n",
      "In parent1\n",
      "In Child\n"
     ]
    }
   ],
   "source": [
    "class Parent1():\n",
    "    \n",
    "    def show(self):\n",
    "        print(\"In parent1\")\n",
    "\n",
    "class Parent2():\n",
    "    \n",
    "    def display(self):\n",
    "        print(\"In Parent2\")\n",
    "        \n",
    "class Child(Parent1, Parent2):\n",
    "    \n",
    "    def show(self):\n",
    "        super().display()\n",
    "        super().show()\n",
    "        print(\"In Child\")\n",
    "\n",
    "obj = Child()\n",
    "obj.show()"
   ]
  }
 ],
 "metadata": {
  "kernelspec": {
   "display_name": "Python 3 (ipykernel)",
   "language": "python",
   "name": "python3"
  },
  "language_info": {
   "codemirror_mode": {
    "name": "ipython",
    "version": 3
   },
   "file_extension": ".py",
   "mimetype": "text/x-python",
   "name": "python",
   "nbconvert_exporter": "python",
   "pygments_lexer": "ipython3",
   "version": "3.11.3"
  }
 },
 "nbformat": 4,
 "nbformat_minor": 5
}
