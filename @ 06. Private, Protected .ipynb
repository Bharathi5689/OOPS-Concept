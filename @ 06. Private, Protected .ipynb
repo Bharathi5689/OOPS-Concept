{
 "cells": [
  {
   "cell_type": "markdown",
   "id": "72e90c55",
   "metadata": {},
   "source": [
    "# Private Access "
   ]
  },
  {
   "cell_type": "code",
   "execution_count": 26,
   "id": "a9ee89cc",
   "metadata": {},
   "outputs": [
    {
     "name": "stdout",
     "output_type": "stream",
     "text": [
      "Name: Sakthi\n",
      "Age:  8\n",
      "Roll: 123\n"
     ]
    }
   ],
   "source": [
    "class Student:\n",
    "    def __init__(self, name, age):\n",
    "        self.__name = name \n",
    "        self.__age = age\n",
    "\n",
    "    def __display(self):\n",
    "        print(\"Name:\", self.__name)\n",
    "        print(\"Age: \", self.__age)\n",
    "        \n",
    "class Student1(Student):\n",
    "    def __init__(self, roll, name, age):\n",
    "        super().__init__(name, age)\n",
    "        self.roll = roll\n",
    "    \n",
    "    def display(self):\n",
    "        self._Student__display()  \n",
    "        print(\"Roll:\", self.roll)\n",
    "\n",
    "obj = Student1(123, \"Sakthi\", 8)\n",
    "obj.display()\n"
   ]
  },
  {
   "cell_type": "markdown",
   "id": "9da44a7a",
   "metadata": {},
   "source": [
    "# Protected Access"
   ]
  },
  {
   "cell_type": "code",
   "execution_count": 21,
   "id": "c1c4d861",
   "metadata": {},
   "outputs": [
    {
     "name": "stdout",
     "output_type": "stream",
     "text": [
      "Name: Sakthi\n",
      "Age:  8\n",
      "Roll: 123\n"
     ]
    }
   ],
   "source": [
    "class Student:\n",
    "    def __init__(self, name, age):\n",
    "        self._name = name \n",
    "        self._age = age\n",
    "\n",
    "    def _display(self):\n",
    "        print(\"Name:\", self._name)\n",
    "        print(\"Age: \", self._age)\n",
    "        \n",
    "class Student1(Student):\n",
    "    def __init__(self, roll, name, age):\n",
    "        super().__init__(name, age)\n",
    "        self.roll = roll\n",
    "    \n",
    "    def display(self):\n",
    "        self._display() \n",
    "        print(\"Roll:\", self.roll)\n",
    "\n",
    "obj = Student1(123, \"Sakthi\", 8)\n",
    "obj.display()\n"
   ]
  }
 ],
 "metadata": {
  "kernelspec": {
   "display_name": "Python 3 (ipykernel)",
   "language": "python",
   "name": "python3"
  },
  "language_info": {
   "codemirror_mode": {
    "name": "ipython",
    "version": 3
   },
   "file_extension": ".py",
   "mimetype": "text/x-python",
   "name": "python",
   "nbconvert_exporter": "python",
   "pygments_lexer": "ipython3",
   "version": "3.11.3"
  }
 },
 "nbformat": 4,
 "nbformat_minor": 5
}
