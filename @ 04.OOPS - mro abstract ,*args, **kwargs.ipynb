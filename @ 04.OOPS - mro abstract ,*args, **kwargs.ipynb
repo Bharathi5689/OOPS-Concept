{
 "cells": [
  {
   "cell_type": "markdown",
   "id": "d2814b33",
   "metadata": {},
   "source": [
    "# Mro"
   ]
  },
  {
   "cell_type": "code",
   "execution_count": 13,
   "id": "ecb9e640",
   "metadata": {},
   "outputs": [
    {
     "name": "stdout",
     "output_type": "stream",
     "text": [
      "Demo Class\n",
      "In class B\n",
      "(<class '__main__.C'>, <class '__main__.B'>, <class '__main__.A'>, <class 'object'>)\n",
      "[<class '__main__.C'>, <class '__main__.B'>, <class '__main__.A'>, <class 'object'>]\n"
     ]
    }
   ],
   "source": [
    "class A:\n",
    "    def show(self):\n",
    "        print(\"in class A\")\n",
    "\n",
    "class B:\n",
    "    def show(self):\n",
    "        print(\"In class B\")\n",
    "\n",
    "class C(B,A):\n",
    "    def print(self):\n",
    "        print(\"Demo Class\")\n",
    "\n",
    "obj = C()\n",
    "obj.print()\n",
    "obj.show()\n",
    "print(C.__mro__)\n",
    "print(C.mro())"
   ]
  },
  {
   "cell_type": "code",
   "execution_count": 22,
   "id": "58fcdb93",
   "metadata": {},
   "outputs": [
    {
     "name": "stdout",
     "output_type": "stream",
     "text": [
      "b\n",
      "(<class '__main__.D'>, <class '__main__.B'>, <class '__main__.C'>, <class '__main__.A'>, <class 'object'>)\n"
     ]
    }
   ],
   "source": [
    "class A:\n",
    "    def show(self):\n",
    "        print('a')\n",
    "        \n",
    "class B(A):\n",
    "    def show(self):\n",
    "        print('b')\n",
    "        \n",
    "class C(A):\n",
    "    def show(self):\n",
    "        print('c')\n",
    "\n",
    "class D(B,C):\n",
    "        pass\n",
    "    \n",
    "obj  = D()\n",
    "obj.show()\n",
    "print(D.__mro__)\n",
    "    "
   ]
  },
  {
   "cell_type": "markdown",
   "id": "7bd5a430",
   "metadata": {},
   "source": [
    "# abstract class"
   ]
  },
  {
   "cell_type": "code",
   "execution_count": 15,
   "id": "8ec40b81",
   "metadata": {},
   "outputs": [
    {
     "name": "stdout",
     "output_type": "stream",
     "text": [
      "Area of Circle is  28.26\n",
      "In Circle\n",
      "Area of Rectangle is  35\n",
      "shape\n"
     ]
    }
   ],
   "source": [
    "from abc import ABC, abstractmethod\n",
    "    \n",
    "class Shape(ABC):\n",
    "    \n",
    "    @abstractmethod\n",
    "    def area(self):\n",
    "        pass\n",
    "   \n",
    "    @abstractmethod\n",
    "    def display(self):\n",
    "        print(\"In Superclass\")\n",
    "\n",
    "class Circle(Shape):\n",
    "    \n",
    "    def __init__(self,radius): \n",
    "        self.radius = radius\n",
    "    \n",
    "    def area(self):\n",
    "        print(\"Area of Circle is \",round((3.14 * self.radius * self.radius),2))\n",
    "    \n",
    "    def display(self):\n",
    "        print(\"In Circle\")\n",
    "\n",
    "class Rectangle(Shape):\n",
    "    \n",
    "    def __init__(self, width, length):\n",
    "        self.length = length\n",
    "        self.width = width\n",
    "\n",
    "    def area(self):\n",
    "        print(\"Area of Rectangle is \", self.length * self.width)\n",
    "        \n",
    "    def display(self):\n",
    "        print(\"In Rectangle\")\n",
    "    \n",
    "    def display(self):\n",
    "        print ('shape')\n",
    "    \n",
    "        \n",
    "circle = Circle(3)\n",
    "circle.area()\n",
    "circle.display()\n",
    "\n",
    "rectangle = Rectangle(5,7)\n",
    "rectangle.area()\n",
    "rectangle.display()\n",
    "    "
   ]
  },
  {
   "cell_type": "markdown",
   "id": "f15fc225",
   "metadata": {},
   "source": [
    "# @property"
   ]
  },
  {
   "cell_type": "code",
   "execution_count": 17,
   "id": "413de8d0",
   "metadata": {},
   "outputs": [
    {
     "ename": "AttributeError",
     "evalue": "property 'radius' of 'Circle' object has no setter",
     "output_type": "error",
     "traceback": [
      "\u001b[0;31m---------------------------------------------------------------------------\u001b[0m",
      "\u001b[0;31mAttributeError\u001b[0m                            Traceback (most recent call last)",
      "Cell \u001b[0;32mIn[17], line 11\u001b[0m\n\u001b[1;32m      8\u001b[0m         \u001b[38;5;28;01mreturn\u001b[39;00m \u001b[38;5;28mself\u001b[39m\u001b[38;5;241m.\u001b[39m_radius\n\u001b[1;32m     10\u001b[0m circle \u001b[38;5;241m=\u001b[39m Circle(\u001b[38;5;241m5\u001b[39m)\n\u001b[0;32m---> 11\u001b[0m circle\u001b[38;5;241m.\u001b[39mradius \u001b[38;5;241m=\u001b[39m \u001b[38;5;241m7\u001b[39m\n\u001b[1;32m     12\u001b[0m \u001b[38;5;28mprint\u001b[39m(circle\u001b[38;5;241m.\u001b[39mradius)\n",
      "\u001b[0;31mAttributeError\u001b[0m: property 'radius' of 'Circle' object has no setter"
     ]
    }
   ],
   "source": [
    "class Circle:\n",
    "    \n",
    "    def __init__(self,radius):\n",
    "        self._radius = radius\n",
    "    \n",
    "    @property    \n",
    "    def radius(self):\n",
    "        return self._radius\n",
    "\n",
    "circle = Circle(5)\n",
    "circle.radius = 7\n",
    "print(circle.radius)\n"
   ]
  },
  {
   "cell_type": "code",
   "execution_count": 8,
   "id": "92f579fa",
   "metadata": {},
   "outputs": [
    {
     "name": "stdout",
     "output_type": "stream",
     "text": [
      "8\n"
     ]
    }
   ],
   "source": [
    "class Circle:\n",
    "    def __init__(self,radius):\n",
    "        self._radius = None\n",
    "        self.radius = radius\n",
    "    \n",
    "    @property\n",
    "    def radius(self):\n",
    "        return self._radius\n",
    "   \n",
    "    @radius.setter\n",
    "    def radius(self,value):\n",
    "        self._radius = value\n",
    "        \n",
    "        '''if self._radius is None:\n",
    "            self._radius = value\n",
    "        else:\n",
    "            raise ValueError(\"Radius can only be set once\")'''\n",
    "\n",
    "            \n",
    "circle = Circle(8)\n",
    "#circle.radius = 5\n",
    "print(circle.radius)"
   ]
  },
  {
   "cell_type": "markdown",
   "id": "5e9f4876",
   "metadata": {},
   "source": [
    "# *args"
   ]
  },
  {
   "cell_type": "code",
   "execution_count": 119,
   "id": "ffc89898",
   "metadata": {},
   "outputs": [
    {
     "name": "stdout",
     "output_type": "stream",
     "text": [
      "a\n",
      "b\n",
      "c\n",
      "d\n",
      "e\n",
      "f\n",
      "1\n",
      "2\n",
      "3\n",
      "4\n"
     ]
    }
   ],
   "source": [
    "def my_func(*args):\n",
    "    for arg in args:\n",
    "        print(arg)\n",
    "my_func('a','b','c','d','e','f')\n",
    "my_func(1,2,3,4)"
   ]
  },
  {
   "cell_type": "code",
   "execution_count": 129,
   "id": "ca7deafb",
   "metadata": {},
   "outputs": [
    {
     "name": "stdout",
     "output_type": "stream",
     "text": [
      "1\n",
      "4\n",
      "9\n",
      "16\n",
      "25\n"
     ]
    }
   ],
   "source": [
    "def mul(*n):\n",
    "    for i in n:\n",
    "        print(i * i)\n",
    "mul(1,2,3,4,5)"
   ]
  },
  {
   "cell_type": "markdown",
   "id": "6d7b1a03",
   "metadata": {},
   "source": [
    "# **kwargs"
   ]
  },
  {
   "cell_type": "code",
   "execution_count": 13,
   "id": "f5478937",
   "metadata": {},
   "outputs": [
    {
     "name": "stdout",
     "output_type": "stream",
     "text": [
      "a : 1\n",
      "b : 4\n",
      "c : 9\n",
      "d : 16\n",
      "e : 25\n"
     ]
    }
   ],
   "source": [
    "def mul(**n):\n",
    "    for i, j in n.items():\n",
    "        print(f\"{i} : {j*j}\")\n",
    "mul(a = 1,b = 2, c= 3, d = 4, e= 5)"
   ]
  },
  {
   "cell_type": "code",
   "execution_count": 1,
   "id": "48dbca25",
   "metadata": {},
   "outputs": [
    {
     "name": "stdout",
     "output_type": "stream",
     "text": [
      "a: 1\n",
      "b: 2\n",
      "c: 3\n",
      "name: bharathi\n",
      "age: 33\n"
     ]
    }
   ],
   "source": [
    "def my_func(**kwargs):\n",
    "    for keys,values in kwargs.items():\n",
    "        print(f\"{keys}: {values}\")\n",
    "my_func(a=1,b=2, c= 3)\n",
    "my_func(name=\"bharathi\",age =33)"
   ]
  },
  {
   "cell_type": "markdown",
   "id": "3e392b18",
   "metadata": {},
   "source": [
    "# yield"
   ]
  },
  {
   "cell_type": "code",
   "execution_count": 4,
   "id": "8a0cbb22",
   "metadata": {},
   "outputs": [
    {
     "name": "stdout",
     "output_type": "stream",
     "text": [
      "0\n",
      "1\n",
      "3\n",
      "6\n",
      "10\n",
      "15\n",
      "21\n",
      "28\n",
      "36\n",
      "45\n"
     ]
    }
   ],
   "source": [
    "def fun():\n",
    "    S = 0\n",
    "\n",
    "    for i in range(10):\n",
    "        S += i\n",
    "        yield S\n",
    "\n",
    "\n",
    "for i in fun():\n",
    "    print(i)\n"
   ]
  }
 ],
 "metadata": {
  "kernelspec": {
   "display_name": "Python 3 (ipykernel)",
   "language": "python",
   "name": "python3"
  },
  "language_info": {
   "codemirror_mode": {
    "name": "ipython",
    "version": 3
   },
   "file_extension": ".py",
   "mimetype": "text/x-python",
   "name": "python",
   "nbconvert_exporter": "python",
   "pygments_lexer": "ipython3",
   "version": "3.11.3"
  }
 },
 "nbformat": 4,
 "nbformat_minor": 5
}
